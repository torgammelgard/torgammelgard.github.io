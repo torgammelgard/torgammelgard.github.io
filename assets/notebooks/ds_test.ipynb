{
 "cells": [
  {
   "cell_type": "code",
   "execution_count": 38,
   "metadata": {},
   "outputs": [],
   "source": [
    "import numpy as np"
   ]
  },
  {
   "cell_type": "code",
   "execution_count": 39,
   "metadata": {
    "scrolled": true
   },
   "outputs": [
    {
     "name": "stdout",
     "output_type": "stream",
     "text": [
      "0.417022004702574\n"
     ]
    }
   ],
   "source": [
    "np.random.seed(1)\n",
    "print(np.random.rand())"
   ]
  },
  {
   "cell_type": "code",
   "execution_count": 53,
   "metadata": {},
   "outputs": [],
   "source": [
    "def sigmoid(x, derive=False, alternative_derive=False):\n",
    "    if derive:\n",
    "        return sigmoid(x) * (1 - sigmoid(x))\n",
    "    elif alternative_derive:\n",
    "        return x * (1 - x)\n",
    "    else:\n",
    "        return 1 / (1 + np.exp(-x))"
   ]
  },
  {
   "cell_type": "code",
   "execution_count": 41,
   "metadata": {},
   "outputs": [
    {
     "name": "stdout",
     "output_type": "stream",
     "text": [
      "[[1 0 1]\n",
      " [1 1 1]\n",
      " [0 1 1]\n",
      " [0 0 1]]\n"
     ]
    }
   ],
   "source": [
    "X = np.array([[1, 0, 1],\n",
    "              [1, 1, 1],\n",
    "              [0, 1, 1],\n",
    "              [0, 0, 1]\n",
    "             ])\n",
    "print(X)"
   ]
  },
  {
   "cell_type": "code",
   "execution_count": 42,
   "metadata": {},
   "outputs": [
    {
     "name": "stdout",
     "output_type": "stream",
     "text": [
      "[[0]\n",
      " [1]\n",
      " [1]\n",
      " [0]]\n"
     ]
    }
   ],
   "source": [
    "y = np.array([[0], [1], [1], [0]])\n",
    "print(y)"
   ]
  },
  {
   "cell_type": "code",
   "execution_count": 43,
   "metadata": {},
   "outputs": [],
   "source": [
    "syn0 = 2*np.random.random((3,4)) - 1\n",
    "syn1 = 2*np.random.random((4,1)) - 1"
   ]
  },
  {
   "cell_type": "code",
   "execution_count": 44,
   "metadata": {},
   "outputs": [
    {
     "name": "stdout",
     "output_type": "stream",
     "text": [
      "Error:  0.5066960919019428\n",
      "Error:  0.00022800039767535333\n",
      "Error:  0.00011285690055429404\n",
      "Error:  7.529301646468935e-05\n",
      "Error:  5.659959042532627e-05\n",
      "Error:  4.5389927152115914e-05\n"
     ]
    }
   ],
   "source": [
    "for j in range(60000):\n",
    "    \n",
    "    layer0 = X\n",
    "    layer1 = sigmoid(np.dot(X, syn0))\n",
    "    layer2 = sigmoid(np.dot(layer1, syn1))\n",
    "    \n",
    "    layer2_error = y - layer2\n",
    "    \n",
    "    if (j % 10000 == 0):\n",
    "        print(\"Error: \", str(np.mean(np.abs(layer2_error))))\n",
    "    \n",
    "    layer2_delta = layer2_error * sigmoid(layer2, derive=True)\n",
    "    \n",
    "    layer1_error = layer2_delta.dot(syn1.T)\n",
    "    \n",
    "    layer1_delta = layer1_error * sigmoid(layer1, derive=True)\n",
    "    \n",
    "    syn1 += layer1.T.dot(layer2_delta)\n",
    "    syn0 += layer0.T.dot(layer1_delta)"
   ]
  },
  {
   "cell_type": "code",
   "execution_count": 45,
   "metadata": {},
   "outputs": [
    {
     "name": "stdout",
     "output_type": "stream",
     "text": [
      "Output after training\n",
      "[[3.57855379e-05]\n",
      " [9.99958417e-01]\n",
      " [9.99959145e-01]\n",
      " [3.34213551e-05]]\n"
     ]
    }
   ],
   "source": [
    "print(\"Output after training\")\n",
    "print(layer2)"
   ]
  },
  {
   "cell_type": "code",
   "execution_count": 46,
   "metadata": {},
   "outputs": [
    {
     "data": {
      "text/plain": [
       "array([[6.25423572e-01, 4.86964147e-01, 1.25684005e-03, 4.03670239e-01],\n",
       "       [6.63965874e-03, 8.84666384e-14, 9.99215984e-01, 4.12678659e-07],\n",
       "       [4.40698744e-03, 1.01771197e-13, 9.99954273e-01, 5.26426897e-07],\n",
       "       [5.25108604e-01, 5.21972436e-01, 2.11357289e-02, 4.63377669e-01]])"
      ]
     },
     "execution_count": 46,
     "metadata": {},
     "output_type": "execute_result"
    }
   ],
   "source": [
    "sigmoid(np.dot(X, syn0))"
   ]
  },
  {
   "cell_type": "code",
   "execution_count": null,
   "metadata": {},
   "outputs": [],
   "source": []
  },
  {
   "cell_type": "code",
   "execution_count": 50,
   "metadata": {},
   "outputs": [],
   "source": [
    "import matplotlib\n",
    "import matplotlib.pyplot as plt"
   ]
  },
  {
   "cell_type": "code",
   "execution_count": 64,
   "metadata": {},
   "outputs": [],
   "source": [
    "x = np.arange(-10.0, 10.0, 0.01)\n",
    "y = sigmoid(x, derive=True)\n",
    "y_alt = sigmoid(x, alternative_derive=True)"
   ]
  },
  {
   "cell_type": "code",
   "execution_count": 65,
   "metadata": {},
   "outputs": [
    {
     "data": {
      "image/png": "[encoded data removed]",
      "text/plain": [
       "<matplotlib.figure.Figure at 0x11dd90128>"
      ]
     },
     "metadata": {},
     "output_type": "display_data"
    }
   ],
   "source": [
    "fig, ax = plt.subplots()\n",
    "ax.plot(x, y)\n",
    "ax.plot(x, y_alt)\n",
    "ax.grid()"
   ]
  },
  {
   "cell_type": "code",
   "execution_count": null,
   "metadata": {},
   "outputs": [],
   "source": []
  }
 ],
 "metadata": {
  "kernelspec": {
   "display_name": "Python [conda env:anaconda3]",
   "language": "python",
   "name": "conda-env-anaconda3-py"
  },
  "language_info": {
   "codemirror_mode": {
    "name": "ipython",
    "version": 3
   },
   "file_extension": ".py",
   "mimetype": "text/x-python",
   "name": "python",
   "nbconvert_exporter": "python",
   "pygments_lexer": "ipython3",
   "version": "3.6.4"
  }
 },
 "nbformat": 4,
 "nbformat_minor": 2
}
